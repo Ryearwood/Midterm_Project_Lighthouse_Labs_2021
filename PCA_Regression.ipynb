{
 "cells": [
  {
   "cell_type": "code",
   "execution_count": 5,
   "metadata": {},
   "outputs": [],
   "source": [
    "import numpy as np\n",
    "import pandas as pd\n",
    "import matplotlib.pyplot as plt\n",
    "import plotly.express as px\n",
    "from sklearn.decomposition import PCA\n",
    "from sklearn.preprocessing import StandardScaler\n",
    "from sklearn.model_selection import train_test_split"
   ]
  },
  {
   "cell_type": "markdown",
   "metadata": {},
   "source": [
    "### Import Sample Data"
   ]
  },
  {
   "cell_type": "code",
   "execution_count": 6,
   "metadata": {},
   "outputs": [],
   "source": [
    "import pickle\n",
    "file = open('./Data/Sample_Dataset','rb')\n",
    "data_sample = pickle.load(file)\n",
    "file.close()"
   ]
  },
  {
   "cell_type": "markdown",
   "metadata": {},
   "source": [
    "### Import Test Sample"
   ]
  },
  {
   "cell_type": "code",
   "execution_count": 4,
   "metadata": {},
   "outputs": [
    {
     "ename": "FileNotFoundError",
     "evalue": "[Errno 2] No such file or directory: './Data/Flight_2020_Test_sample'",
     "output_type": "error",
     "traceback": [
      "\u001b[1;31m---------------------------------------------------------------------------\u001b[0m",
      "\u001b[1;31mFileNotFoundError\u001b[0m                         Traceback (most recent call last)",
      "\u001b[1;32m<ipython-input-4-e69662b11085>\u001b[0m in \u001b[0;36m<module>\u001b[1;34m\u001b[0m\n\u001b[0;32m      1\u001b[0m \u001b[1;32mimport\u001b[0m \u001b[0mpickle\u001b[0m\u001b[1;33m\u001b[0m\u001b[1;33m\u001b[0m\u001b[0m\n\u001b[1;32m----> 2\u001b[1;33m \u001b[0mfile\u001b[0m \u001b[1;33m=\u001b[0m \u001b[0mopen\u001b[0m\u001b[1;33m(\u001b[0m\u001b[1;34m'./Data/Flight_2020_Test_sample'\u001b[0m\u001b[1;33m,\u001b[0m\u001b[1;34m'rb'\u001b[0m\u001b[1;33m)\u001b[0m\u001b[1;33m\u001b[0m\u001b[1;33m\u001b[0m\u001b[0m\n\u001b[0m\u001b[0;32m      3\u001b[0m \u001b[0mtest_sample\u001b[0m \u001b[1;33m=\u001b[0m \u001b[0mpickle\u001b[0m\u001b[1;33m.\u001b[0m\u001b[0mload\u001b[0m\u001b[1;33m(\u001b[0m\u001b[0mfile\u001b[0m\u001b[1;33m)\u001b[0m\u001b[1;33m\u001b[0m\u001b[1;33m\u001b[0m\u001b[0m\n\u001b[0;32m      4\u001b[0m \u001b[0mfile\u001b[0m\u001b[1;33m.\u001b[0m\u001b[0mclose\u001b[0m\u001b[1;33m(\u001b[0m\u001b[1;33m)\u001b[0m\u001b[1;33m\u001b[0m\u001b[1;33m\u001b[0m\u001b[0m\n",
      "\u001b[1;31mFileNotFoundError\u001b[0m: [Errno 2] No such file or directory: './Data/Flight_2020_Test_sample'"
     ]
    }
   ],
   "source": [
    "import pickle\n",
    "file = open('./Data/Flight_2020_Test_sample','rb')\n",
    "test_sample = pickle.load(file)\n",
    "file.close()"
   ]
  },
  {
   "cell_type": "code",
   "execution_count": 78,
   "metadata": {},
   "outputs": [],
   "source": [
    "common_features = test_sample.columns.intersection(data_sample.columns)"
   ]
  },
  {
   "cell_type": "code",
   "execution_count": 50,
   "metadata": {},
   "outputs": [],
   "source": [
    "# Select Features from columns that simulate Test Sample.\n",
    "# Exclude Features where the future data is unavailable\n",
    "\n",
    "features = ['mkt_carrier_fl_num',\n",
    "                   'op_carrier_fl_num', 'origin_airport_id',\n",
    "                   'dest_airport_id', 'crs_dep_time', 'dep_time',\n",
    "                   'wheels_off', 'wheels_on', 'crs_arr_time', 'crs_elapsed_time', \n",
    "                   'air_time', \n",
    "                   'distance', 'is_delayed',\n",
    "                   'flight_speed', 'flight_haul_type', 'flight_month',\n",
    "                   'arrival_hour_of_day', 'departure_hour_of_day',\n",
    "                   'avg_flights', 'avg_passengers', 'avg_fuel',\n",
    "                   'total_distance','total_passengers',  \n",
    "                   'avgCloud', 'avgDryDays','avgRainDays', 'avgSnowDays', 'avgThunderDays', \n",
    "                   'early_count', 'delay_count']\n",
    "\n",
    "target = ['arr_delay']"
   ]
  },
  {
   "cell_type": "markdown",
   "metadata": {},
   "source": [
    "## Train Model on Sample Data PCA Regression"
   ]
  },
  {
   "cell_type": "markdown",
   "metadata": {},
   "source": [
    "### Split Sample Data"
   ]
  },
  {
   "cell_type": "code",
   "execution_count": 5,
   "metadata": {},
   "outputs": [],
   "source": [
    "# Train 80%, Test 20% Shuffled\n",
    "train_x, test_x, y_train,y_test = train_test_split(data_sample[features], test_size=0.2, random_state=42, shuffle=True)"
   ]
  },
  {
   "cell_type": "markdown",
   "metadata": {},
   "source": [
    "### PCA Breakdown"
   ]
  },
  {
   "cell_type": "code",
   "execution_count": 6,
   "metadata": {},
   "outputs": [],
   "source": [
    "# Standardize training data\n",
    "train_std = StandardScaler().fit_transform(train_x)\n",
    "test_std = StandardScaler().transform(test_x)"
   ]
  },
  {
   "cell_type": "code",
   "execution_count": 7,
   "metadata": {
    "jupyter": {
     "source_hidden": true
    }
   },
   "outputs": [],
   "source": [
    "# # Create Covariance Matrix\n",
    "# mean_vec = np.mean(train_std, axis=0)\n",
    "# cov_mat = (train_std - mean_vec).T.dot((train_std - mean_vec)) / (train_std.shape[0]-1)\n",
    "# #print('Covariance matrix \\n%s' %cov_mat)\n",
    "\n",
    "# mean_vec_test = np.mean(test_std, axis=0)\n",
    "# cov_mat_test = (test_std - mean_vec_test).T.dot((test_std - mean_vec_test)) / (test_std.shape[0]-1)\n",
    "#print('Covariance matrix \\n%s' %cov_mat)"
   ]
  },
  {
   "cell_type": "code",
   "execution_count": 34,
   "metadata": {
    "collapsed": true,
    "jupyter": {
     "outputs_hidden": true,
     "source_hidden": true
    }
   },
   "outputs": [
    {
     "name": "stdout",
     "output_type": "stream",
     "text": [
      "Eigenvectors \n",
      "[[-1.17580195e-02 -3.90090445e-02 -2.42909056e-01 ...  2.99093272e-04\n",
      "  -8.60824023e-05  5.17910332e-05]\n",
      " [-1.17608638e-02 -3.90038157e-02 -2.42908692e-01 ... -1.94717413e-04\n",
      "   2.49444766e-04 -1.40330835e-04]\n",
      " [ 2.54895643e-03 -2.64680640e-02  1.05637375e-02 ...  3.64871596e-05\n",
      "   6.27935683e-05 -1.07562253e-04]\n",
      " ...\n",
      " [ 3.30340596e-01 -4.33979238e-03 -1.36365274e-02 ... -8.97254221e-03\n",
      "   1.70467905e-04  1.94182242e-04]\n",
      " [-3.44008743e-01  5.05741412e-03  1.04106893e-02 ... -1.01618448e-01\n",
      "   3.54625566e-05 -2.27291566e-04]\n",
      " [-3.41591857e-01  5.30411494e-03  8.67137562e-03 ... -4.57805105e-01\n",
      "  -5.57327400e-04  1.42608834e-04]]\n",
      "\n",
      "Eigenvalues \n",
      "[6.48380524e+00 5.93095825e+00 5.11956382e+00 3.50758004e+00\n",
      " 3.17566877e+00 2.35442990e+00 1.87810718e+00 1.12327876e+00\n",
      " 1.03660280e+00 9.93293738e-01 9.48443943e-01 8.88576818e-01\n",
      " 8.46076944e-01 6.72723431e-01 5.69159628e-01 5.33829995e-01\n",
      " 4.51767856e-01 2.77739069e-01 2.28636254e-01 2.24938610e-01\n",
      " 1.90303393e-01 1.49579535e-01 1.06391805e-01 9.69011878e-02\n",
      " 5.43127317e-02 4.09103203e-02 2.49915665e-02 2.42055743e-02\n",
      " 2.18272172e-02 1.71269251e-02 1.13868168e-02 9.34428110e-03\n",
      " 4.18572865e-03 1.92921166e-03 2.97610180e-05 1.27731132e-04\n",
      " 6.63866294e-04 6.57587198e-04]\n"
     ]
    }
   ],
   "source": [
    "# EigenDecomposition\n",
    "# cov_mat = np.cov(train_std.T)\n",
    "# eig_vals, eig_vecs = np.linalg.eig(cov_mat)\n",
    "\n",
    "# print('Eigenvectors \\n%s' %eig_vecs)\n",
    "# print('\\nEigenvalues \\n%s' %eig_vals)"
   ]
  },
  {
   "cell_type": "code",
   "execution_count": 35,
   "metadata": {
    "collapsed": true,
    "jupyter": {
     "outputs_hidden": true,
     "source_hidden": true
    }
   },
   "outputs": [
    {
     "name": "stdout",
     "output_type": "stream",
     "text": [
      "Eigenvalues in descending order:\n",
      "6.483805242443207\n",
      "5.930958251085498\n",
      "5.119563821314177\n",
      "3.5075800393037326\n",
      "3.175668770120395\n",
      "2.354429903827589\n",
      "1.878107176408487\n",
      "1.123278757421169\n",
      "1.0366027955473749\n",
      "0.9932937376467483\n",
      "0.9484439425906822\n",
      "0.8885768180416316\n",
      "0.8460769435906874\n",
      "0.6727234313326181\n",
      "0.5691596281419151\n",
      "0.5338299946702794\n",
      "0.4517678556648929\n",
      "0.2777390688391071\n",
      "0.22863625411734526\n",
      "0.22493861039183616\n",
      "0.19030339328894008\n",
      "0.14957953506894417\n",
      "0.1063918045293336\n",
      "0.0969011877637786\n",
      "0.054312731729718566\n",
      "0.04091032028646389\n",
      "0.02499156645119147\n",
      "0.024205574324763477\n",
      "0.021827217197897514\n",
      "0.01712692509033808\n",
      "0.011386816837108198\n",
      "0.009344281104181453\n",
      "0.004185728647758577\n",
      "0.0019292116596522633\n",
      "2.9761018029273958e-05\n",
      "0.00012773113224695155\n",
      "0.000663866293983452\n",
      "0.000657587197843516\n"
     ]
    }
   ],
   "source": [
    "# Order Eigenvalues in Descending Order to view relevant variances\n",
    "# eig_pairs = [(np.abs(eig_vals[i]), eig_vecs[:,i]) for i in range(len(eig_vals))]\n",
    "\n",
    "# print('Eigenvalues in descending order:')\n",
    "# for i in eig_pairs:\n",
    "#    print(i[0])"
   ]
  },
  {
   "cell_type": "markdown",
   "metadata": {},
   "source": [
    "### Select Principle Components"
   ]
  },
  {
   "cell_type": "code",
   "execution_count": 60,
   "metadata": {},
   "outputs": [
    {
     "name": "stdout",
     "output_type": "stream",
     "text": [
      "Number of Components: 10\n",
      "Total Explained Variance: 83.16642131758279\n"
     ]
    },
    {
     "data": {
      "image/png": "[encoded data removed]",
      "text/plain": [
       "<Figure size 432x288 with 1 Axes>"
      ]
     },
     "metadata": {
      "needs_background": "light"
     },
     "output_type": "display_data"
    }
   ],
   "source": [
    "# View Variance ratio as based on highest EigenValues\n",
    "pca = PCA(n_components=10)\n",
    "principal_components = pca.fit_transform(train_std)\n",
    "principal_components_test = pca.transform(test_std)\n",
    "\n",
    "print(f'Number of Components: {len(pca.components_)}')\n",
    "print('Total Explained Variance:', pca.explained_variance_ratio_.sum()*100)\n",
    "\n",
    "pca = PCA().fit(train_std)\n",
    "plt.plot(np.cumsum(pca.explained_variance_ratio_))\n",
    "plt.xlabel('number of components')\n",
    "plt.ylabel('cumulative explained variance')\n",
    "plt.show()"
   ]
  },
  {
   "cell_type": "markdown",
   "metadata": {},
   "source": [
    "### Linear Regression"
   ]
  },
  {
   "cell_type": "code",
   "execution_count": 61,
   "metadata": {},
   "outputs": [
    {
     "name": "stdout",
     "output_type": "stream",
     "text": [
      "Coefficients: \n",
      " [[-0.52158638 -2.27269832 -0.65279621  0.74967257  1.4462676  -0.88902411\n",
      "   0.77056137  0.10299616 16.47135219 -3.49295359]] \n",
      "\n",
      "Component Shape: (289360, 10)\n",
      "Target Shape: (289360, 1)\n",
      "Regressor Score: 0.13634048980200875\n"
     ]
    }
   ],
   "source": [
    "from sklearn.linear_model import LinearRegression\n",
    "regressor = LinearRegression()\n",
    "regressor.fit(principal_components,y_train)\n",
    "print('Regressor Score:', regressor.score(principal_components_test,y_test))\n",
    "# print('Coefficients:','\\n',regressor.coef_,'\\n')\n",
    "# print('Component Shape:', principal_components_test.shape)\n",
    "# print('Target Shape:', y_test.shape)\n",
    "\n"
   ]
  },
  {
   "cell_type": "markdown",
   "metadata": {},
   "source": [
    "#### R_Score:\n",
    "\n",
    "The higher the r-squared, the better the model fits your data (there is a caveat to this…) because there is a possibility of having a low r-squared value for a good model and vice-versa\n",
    "\n",
    "\n",
    "R-squared is a relative measure of model fit.\n",
    "This means they are not a good measure to determine how well a model fits the data."
   ]
  },
  {
   "cell_type": "markdown",
   "metadata": {},
   "source": [
    "#### RMSE (Root-Mean-Squared-Error)\n",
    "\n",
    "The lower the RMSE the better the measure of fit. This means that there is little variation in the spread of data"
   ]
  },
  {
   "cell_type": "code",
   "execution_count": null,
   "metadata": {},
   "outputs": [],
   "source": [
    "# RMSE Evaluation\n",
    "\n",
    "from sklearn.metrics import mean_squared_error\n",
    "from math import sqrt\n",
    "\n",
    "rmse = sqrt(mean_squared_error(y_test, pred_y))\n",
    "print(rmse)"
   ]
  },
  {
   "cell_type": "markdown",
   "metadata": {},
   "source": [
    "### Predict Values"
   ]
  },
  {
   "cell_type": "code",
   "execution_count": 48,
   "metadata": {},
   "outputs": [],
   "source": [
    "pred_y = regressor.predict(principal_components_test)\n",
    "pred_y"
   ]
  },
  {
   "cell_type": "code",
   "execution_count": 53,
   "metadata": {
    "collapsed": true,
    "jupyter": {
     "outputs_hidden": true,
     "source_hidden": true
    }
   },
   "outputs": [
    {
     "data": {
      "text/plain": [
       "array([[ 39.69120921],\n",
       "       [ -1.11584198],\n",
       "       [ 19.42519648],\n",
       "       ...,\n",
       "       [ 24.17420588],\n",
       "       [-16.00149283],\n",
       "       [-19.09784342]])"
      ]
     },
     "execution_count": 53,
     "metadata": {},
     "output_type": "execute_result"
    }
   ],
   "source": [
    "pred_y"
   ]
  },
  {
   "cell_type": "code",
   "execution_count": 80,
   "metadata": {},
   "outputs": [
    {
     "name": "stdout",
     "output_type": "stream",
     "text": [
      "Garbage collector: collected 5531 objects.\n"
     ]
    }
   ],
   "source": [
    "import gc\n",
    "collected = gc.collect()\n",
    "print(\"Garbage collector: collected\", \n",
    "          \"%d objects.\" % collected) "
   ]
  }
 ],
 "metadata": {
  "kernelspec": {
   "display_name": "Python 3",
   "language": "python",
   "name": "python3"
  },
  "language_info": {
   "codemirror_mode": {
    "name": "ipython",
    "version": 3
   },
   "file_extension": ".py",
   "mimetype": "text/x-python",
   "name": "python",
   "nbconvert_exporter": "python",
   "pygments_lexer": "ipython3",
   "version": "3.8.5"
  }
 },
 "nbformat": 4,
 "nbformat_minor": 4
}
