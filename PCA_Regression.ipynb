{
 "cells": [
  {
   "cell_type": "code",
   "execution_count": 5,
   "metadata": {},
   "outputs": [],
   "source": [
    "import numpy as np\n",
    "import pandas as pd\n",
    "import matplotlib.pyplot as plt\n",
    "import plotly.express as px\n",
    "from sklearn.decomposition import PCA\n",
    "from sklearn.preprocessing import StandardScaler\n",
    "from sklearn.model_selection import train_test_split"
   ]
  },
  {
   "cell_type": "markdown",
   "metadata": {},
   "source": [
    "### Import Sample Data"
   ]
  },
  {
   "cell_type": "code",
   "execution_count": 16,
   "metadata": {},
   "outputs": [],
   "source": [
    "import pickle\n",
    "file = open('./Data/Sample_Dataset','rb')\n",
    "data_sample = pickle.load(file)\n",
    "file.close()"
   ]
  },
  {
   "cell_type": "markdown",
   "metadata": {},
   "source": [
    "### Import Test Sample"
   ]
  },
  {
   "cell_type": "code",
   "execution_count": 10,
   "metadata": {},
   "outputs": [],
   "source": [
    "import pickle\n",
    "file = open('./Data/Evaluation_sample','rb')\n",
    "test_sample = pickle.load(file)\n",
    "file.close()"
   ]
  },
  {
   "cell_type": "code",
   "execution_count": 42,
   "metadata": {},
   "outputs": [],
   "source": [
    "common_features = list(test_sample.columns.intersection(data_sample.columns))\n",
    "rint(data_sample[common_features].dtypes)\n",
    "print(data_sample[['branded_code_share','fl_date','mkt_unique_carrier','op_unique_carrier','dup']])"
   ]
  },
  {
   "cell_type": "code",
   "execution_count": 44,
   "metadata": {},
   "outputs": [],
   "source": [
    "# Remove non-linear data columns from column list\n",
    "string_obj = ['branded_code_share','fl_date','mkt_unique_carrier','op_unique_carrier','dup']\n",
    "\n",
    "for i in string_obj:\n",
    "    common_features.remove(i)"
   ]
  },
  {
   "cell_type": "code",
   "execution_count": 45,
   "metadata": {},
   "outputs": [],
   "source": [
    "# Select Features from columns that simulate Test Sample.\n",
    "# Exclude Features where the future data is unavailable\n",
    "\n",
    "features = ['mkt_carrier_fl_num',\n",
    "                   'op_carrier_fl_num', 'origin_airport_id',\n",
    "                   'dest_airport_id', 'crs_dep_time', 'dep_time',\n",
    "                   'wheels_off', 'wheels_on', 'crs_arr_time', 'crs_elapsed_time', \n",
    "                   'air_time', \n",
    "                   'distance', 'is_delayed',\n",
    "                   'flight_speed', 'flight_haul_type', 'flight_month',\n",
    "                   'arrival_hour_of_day', 'departure_hour_of_day',\n",
    "                   'avg_flights', 'avg_passengers', 'avg_fuel',\n",
    "                   'total_distance','total_passengers',  \n",
    "                   'avgCloud', 'avgDryDays','avgRainDays', 'avgSnowDays', 'avgThunderDays', \n",
    "                   'early_count', 'delay_count']\n",
    "\n",
    "target = ['arr_delay']"
   ]
  },
  {
   "cell_type": "markdown",
   "metadata": {},
   "source": [
    "## Train Model on Sample Data PCA Regression"
   ]
  },
  {
   "cell_type": "markdown",
   "metadata": {},
   "source": [
    "### Split Sample Data"
   ]
  },
  {
   "cell_type": "code",
   "execution_count": 57,
   "metadata": {},
   "outputs": [],
   "source": [
    "# Set Training Model features to match the evaluation sample features (More accurate predictors)\n",
    "X = data_sample[features]\n",
    "y = data_sample[target]\n",
    "\n",
    "# Train 80%, Test 20% Shuffled\n",
    "train_x, test_x, y_train,y_test = train_test_split(X, y, test_size=0.2, random_state=42, shuffle=True)"
   ]
  },
  {
   "cell_type": "markdown",
   "metadata": {},
   "source": [
    "### PCA Breakdown"
   ]
  },
  {
   "cell_type": "code",
   "execution_count": 58,
   "metadata": {},
   "outputs": [],
   "source": [
    "# Standardize training data\n",
    "scaler = StandardScaler()\n",
    "train_std = scaler.fit_transform(train_x)\n",
    "test_std = scaler.transform(test_x)"
   ]
  },
  {
   "cell_type": "code",
   "execution_count": 8,
   "metadata": {},
   "outputs": [],
   "source": [
    "# # Create Covariance Matrix\n",
    "# mean_vec = np.mean(train_std, axis=0)\n",
    "# cov_mat = (train_std - mean_vec).T.dot((train_std - mean_vec)) / (train_std.shape[0]-1)\n",
    "# #print('Covariance matrix \\n%s' %cov_mat)\n",
    "\n",
    "# mean_vec_test = np.mean(test_std, axis=0)\n",
    "# cov_mat_test = (test_std - mean_vec_test).T.dot((test_std - mean_vec_test)) / (test_std.shape[0]-1)\n",
    "#print('Covariance matrix \\n%s' %cov_mat)"
   ]
  },
  {
   "cell_type": "code",
   "execution_count": 7,
   "metadata": {},
   "outputs": [],
   "source": [
    "# EigenDecomposition\n",
    "# cov_mat = np.cov(train_std.T)\n",
    "# eig_vals, eig_vecs = np.linalg.eig(cov_mat)\n",
    "\n",
    "# print('Eigenvectors \\n%s' %eig_vecs)\n",
    "# print('\\nEigenvalues \\n%s' %eig_vals)"
   ]
  },
  {
   "cell_type": "code",
   "execution_count": 9,
   "metadata": {},
   "outputs": [],
   "source": [
    "# Order Eigenvalues in Descending Order to view relevant variances\n",
    "# eig_pairs = [(np.abs(eig_vals[i]), eig_vecs[:,i]) for i in range(len(eig_vals))]\n",
    "\n",
    "# print('Eigenvalues in descending order:')\n",
    "# for i in eig_pairs:\n",
    "#    print(i[0])"
   ]
  },
  {
   "cell_type": "markdown",
   "metadata": {},
   "source": [
    "### Select Principle Components"
   ]
  },
  {
   "cell_type": "code",
   "execution_count": 61,
   "metadata": {},
   "outputs": [
    {
     "name": "stdout",
     "output_type": "stream",
     "text": [
      "Number of Components: 10\n",
      "Total Explained Variance: 84.44270891297674\n"
     ]
    },
    {
     "data": {
      "image/png": "[encoded data removed]",
      "text/plain": [
       "<Figure size 432x288 with 1 Axes>"
      ]
     },
     "metadata": {
      "needs_background": "light"
     },
     "output_type": "display_data"
    }
   ],
   "source": [
    "# View Variance ratio as based on highest EigenValues\n",
    "pca = PCA(n_components=10)\n",
    "principal_components = pca.fit_transform(train_std)\n",
    "principal_components_test = pca.transform(test_std)\n",
    "\n",
    "print(f'Number of Components: {len(pca.components_)}')\n",
    "print('Total Explained Variance:', pca.explained_variance_ratio_.sum()*100)\n",
    "\n",
    "pca = PCA().fit(train_std)\n",
    "plt.plot(np.cumsum(pca.explained_variance_ratio_))\n",
    "plt.xlabel('number of components')\n",
    "plt.ylabel('cumulative explained variance')\n",
    "plt.show()"
   ]
  },
  {
   "cell_type": "markdown",
   "metadata": {},
   "source": [
    "### Linear Regression"
   ]
  },
  {
   "cell_type": "code",
   "execution_count": 62,
   "metadata": {},
   "outputs": [
    {
     "name": "stdout",
     "output_type": "stream",
     "text": [
      "Regressor Score: 0.20299924032746852\n"
     ]
    }
   ],
   "source": [
    "from sklearn.linear_model import LinearRegression\n",
    "regressor = LinearRegression()\n",
    "regressor.fit(principal_components,y_train)\n",
    "\n",
    "print('Regressor Score:', regressor.score(principal_components_test,y_test))\n",
    "\n",
    "# print('Coefficients:','\\n',regressor.coef_,'\\n')\n",
    "# print('Component Shape:', principal_components_test.shape)\n",
    "# print('Target Shape:', y_test.shape)"
   ]
  },
  {
   "cell_type": "markdown",
   "metadata": {},
   "source": [
    "#### R_Score:\n",
    "\n",
    "The higher the r-squared, the better the model fits your data (there is a caveat to this…) because there is a possibility of having a low r-squared value for a good model and vice-versa\n",
    "\n",
    "\n",
    "R-squared is a relative measure of model fit.\n",
    "This means they are not a good measure to determine how well a model fits the data."
   ]
  },
  {
   "cell_type": "markdown",
   "metadata": {},
   "source": [
    "#### RMSE (Root-Mean-Squared-Error)\n",
    "\n",
    "The lower the RMSE the better the measure of fit. This means that there is little variation in the spread of data"
   ]
  },
  {
   "cell_type": "code",
   "execution_count": 63,
   "metadata": {},
   "outputs": [
    {
     "name": "stdout",
     "output_type": "stream",
     "text": [
      "44.69137350601952\n"
     ]
    }
   ],
   "source": [
    "# RMSE Evaluation\n",
    "from sklearn.metrics import mean_squared_error\n",
    "from math import sqrt\n",
    "\n",
    "pred_y = regressor.predict(principal_components_test)\n",
    "rmse = sqrt(mean_squared_error(y_test, pred_y))\n",
    "print(rmse)"
   ]
  },
  {
   "cell_type": "code",
   "execution_count": 64,
   "metadata": {},
   "outputs": [
    {
     "name": "stdout",
     "output_type": "stream",
     "text": [
      "Garbage collector: collected 21881 objects.\n"
     ]
    }
   ],
   "source": [
    "import gc\n",
    "collected = gc.collect()\n",
    "print(\"Garbage collector: collected\", \n",
    "          \"%d objects.\" % collected) "
   ]
  }
 ],
 "metadata": {
  "kernelspec": {
   "display_name": "Python 3",
   "language": "python",
   "name": "python3"
  },
  "language_info": {
   "codemirror_mode": {
    "name": "ipython",
    "version": 3
   },
   "file_extension": ".py",
   "mimetype": "text/x-python",
   "name": "python",
   "nbconvert_exporter": "python",
   "pygments_lexer": "ipython3",
   "version": "3.8.5"
  }
 },
 "nbformat": 4,
 "nbformat_minor": 4
}
